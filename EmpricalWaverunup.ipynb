{
 "cells": [
  {
   "cell_type": "markdown",
   "id": "0720709d-62c7-4ff0-8048-9696b55f302c",
   "metadata": {},
   "source": [
    "\n",
    "📘 Theoretical Overview: Empirical Models for Wave Runup Estimation\n",
    "\n",
    "Wave runup is the uprush of water from wave action on a beach or coastal structure. Accurately predicting runup is \n",
    "crucial for: Coastal flood risk assessment, Beach erosion modeling, and the Design of coastal infrastructure. This tool \n",
    "compares nine commonly used empirical wave runup models derived from experimental studies and field observations. \n",
    "Each model estimates the vertical extent of runup (R) based on:deep-water wave height (m); deep-water wavelength (m)\n",
    "and beach slope (dimensionless). \n",
    "General Empirical Runup Formula: R = C × [ a × β × √(H × L) + √( (H × L) × (b × β² + c) / 2 ) ]\n",
    "Where: H × L represents the incident wave energy at the shoreline; Coefficients a, b, c, and C are empirically \n",
    "derived, and R is the estimated 2% exceedance runup height\n",
    "\n",
    "Runup Estimation Models Compared: Stockdon2006; Holman1986;Ruggiero2001;Power2018;Nielsen2009;Vousdoukas2012;\n",
    "Senechal2011; Beuzen2019;Passarella2018. Each model predicts runup based on H, L, and β, but differs in calibration\n",
    "method and target environments. All models emphasize the interaction of wave energy with beach slope. The first term\n",
    "accounts for wave setup;  the second term reflects swash oscillation. Coefficients vary due to: Coastal type \n",
    "(steep vs. dissipative); Storm vs. fair weather conditions, Field vs. lab data sources. This tool helps you: Analyze \n",
    "model spread across varying beach/wave conditions, Assess slope and wavelength sensitivity, and visualize differences for \n",
    "coastal design or hazard planning.\n"
   ]
  },
  {
   "cell_type": "code",
   "execution_count": 1,
   "id": "49e5438b-3aec-4b32-9b80-d9ea074a3666",
   "metadata": {},
   "outputs": [
    {
     "name": "stdout",
     "output_type": "stream",
     "text": [
      "Stockdon2006 Runup=   1.62 meters\n",
      "Power2018 Runup   =   1.16 meters\n",
      "Holman1986 Runup  =   1.26 meters\n",
      "Nielsen2009 Runup =   1.80 meters\n",
      "Ruggiero2001 Runup=   1.46 meters\n",
      "Vousdoukas2012 Runup= 1.63 meters\n",
      "Senechal2011 Runup  = 1.54 meters\n",
      "Beuzen2019 Runup    = 1.80 meters\n",
      "Passarella2018 Runup= 1.51 meters\n"
     ]
    },
    {
     "data": {
      "application/vnd.jupyter.widget-view+json": {
       "model_id": "dc7867c1d8c243a8afe8707111771bc1",
       "version_major": 2,
       "version_minor": 0
      },
      "text/plain": [
       "interactive(children=(FloatSlider(value=2.0, description='Wave Height (H)', max=10.0, min=0.1), FloatSlider(va…"
      ]
     },
     "metadata": {},
     "output_type": "display_data"
    },
    {
     "data": {
      "text/plain": [
       "<function __main__.plot_runup(H, L, beta)>"
      ]
     },
     "execution_count": 1,
     "metadata": {},
     "output_type": "execute_result"
    }
   ],
   "source": [
    "#pip install jupyterquiz\n",
    "import numpy as np\n",
    "import matplotlib.pyplot as plt\n",
    "from ipywidgets import interact, FloatSlider\n",
    "#pip install jupyterlab-mathjax3\n",
    "\n",
    "# Display theoretical overview in output\n",
    "\n",
    "\n",
    "# Define the wave parameters\n",
    "H = 2.0# Wave height in meters\n",
    "L = 100.0# Wavelength in meters\n",
    "T = 10.0# Wave period in seconds\n",
    "beta = 0.1# Beach slope\n",
    "\n",
    "# Stockdon2006 model\n",
    "def stockdon2006(H, L, beta):\n",
    "    R = 1.1 * (0.35 * beta * np.sqrt(H * L) + np.sqrt((H * L * (0.563 * beta**2 + 0.004)) / 2))\n",
    "    return R\n",
    "\n",
    "# Power2018 model\n",
    "def power2018(H, L, beta):\n",
    "    R = 0.83 * (0.27 * beta * np.sqrt(H * L) + np.sqrt((H * L * (0.52 * beta**2 + 0.005)) / 2))\n",
    "    return R\n",
    "\n",
    "# Holman1986 model\n",
    "def holman1986(H, L, beta):\n",
    "    R = 0.75 * (0.5 * beta * np.sqrt(H * L) + np.sqrt((H * L * (0.65 * beta**2 + 0.003)) / 2))\n",
    "    return R\n",
    "\n",
    "# Nielsen2009 model\n",
    "def nielsen2009(H, L, beta):\n",
    "    R = 1.2 * (0.3 * beta * np.sqrt(H * L) + np.sqrt((H * L * (0.55 * beta**2 + 0.006)) / 2))\n",
    "    return R\n",
    "\n",
    "# Ruggiero2001 model\n",
    "def ruggiero2001(H, L, beta):\n",
    "    R = 1.05 * (0.25 * beta * np.sqrt(H * L) + np.sqrt((H * L * (0.57 * beta**2 + 0.005)) / 2))\n",
    "    return R\n",
    "\n",
    "# Vousdoukas2012 model\n",
    "def vousdoukas2012(H, L, beta):\n",
    "    R = 1.15 * (0.32 * beta * np.sqrt(H * L) + np.sqrt((H * L * (0.53 * beta**2 + 0.004)) / 2))\n",
    "    return R\n",
    "\n",
    "# Senechal2011 model\n",
    "def senechal2011(H, L, beta):\n",
    "    R = 1.08 * (0.28 * beta * np.sqrt(H * L) + np.sqrt((H * L * (0.56 * beta**2 + 0.005)) / 2))\n",
    "    return R\n",
    "\n",
    "# Beuzen2019 model\n",
    "def beuzen2019(H, L, beta):\n",
    "    R = 1.25 * (0.33 * beta * np.sqrt(H * L) + np.sqrt((H * L * (0.54 * beta**2 + 0.004)) / 2))\n",
    "    return R\n",
    "\n",
    "# Passarella2018 model\n",
    "def passarella2018(H, L, beta):\n",
    "    R = 1.05 * (0.29 * beta * np.sqrt(H * L) + np.sqrt((H * L * (0.55 * beta**2 + 0.005)) / 2))\n",
    "    return R\n",
    "\n",
    "# Calculate runup using different models\n",
    "runup_stockdon2006 = stockdon2006(H, L, beta)\n",
    "runup_power2018 = power2018(H, L, beta)\n",
    "runup_holman1986 = holman1986(H, L, beta)\n",
    "runup_nielsen2009 = nielsen2009(H, L, beta)\n",
    "runup_ruggiero2001 = ruggiero2001(H, L, beta)\n",
    "runup_vousdoukas2012 = vousdoukas2012(H, L, beta)\n",
    "runup_senechal2011 = senechal2011(H, L, beta)\n",
    "runup_beuzen2019 = beuzen2019(H, L, beta)\n",
    "runup_passarella2018 = passarella2018(H, L, beta)\n",
    "\n",
    "# Print the results\n",
    "print(f\"Stockdon2006 Runup=   {runup_stockdon2006:.2f} meters\")\n",
    "print(f\"Power2018 Runup   =   {runup_power2018:.2f} meters\")\n",
    "print(f\"Holman1986 Runup  =   {runup_holman1986:.2f} meters\")\n",
    "print(f\"Nielsen2009 Runup =   {runup_nielsen2009:.2f} meters\")\n",
    "print(f\"Ruggiero2001 Runup=   {runup_ruggiero2001:.2f} meters\")\n",
    "print(f\"Vousdoukas2012 Runup= {runup_vousdoukas2012:.2f} meters\")\n",
    "print(f\"Senechal2011 Runup  = {runup_senechal2011:.2f} meters\")\n",
    "print(f\"Beuzen2019 Runup    = {runup_beuzen2019:.2f} meters\")\n",
    "print(f\"Passarella2018 Runup= {runup_passarella2018:.2f} meters\")\n",
    "\n",
    "# Plot the results\n",
    "#models = ['Stockdon2006', 'Power2018', 'Holman1986', 'Nielsen2009', 'Ruggiero2001', 'Vousdoukas2012', 'Senechal2011', 'Beuzen2019', 'Passarella2018']\n",
    "#runups = [runup_stockdon2006, runup_power2018, runup_holman1986, runup_nielsen2009, runup_ruggiero2001, runup_vousdoukas2012,runup_senechal2011, runup_beuzen2019, runup_passarella2018]\n",
    "\n",
    "\n",
    "# Interactive plotting function\n",
    "def plot_runup(H, L, beta):\n",
    "    models = {\n",
    "        'Stockdon2006': stockdon2006,'Power2018': power2018,'Holman1986': holman1986,\n",
    "        'Nielsen2009': nielsen2009,'Ruggiero2001': ruggiero2001,'Vousdoukas2012': vousdoukas2012,\n",
    "        'Senechal2011': senechal2011,'Beuzen2019': beuzen2019,'Passarella2018': passarella2018}\n",
    "    runups = [model(H, L, beta) for model in models.values()]\n",
    "    plt.figure(figsize=(10, 5))\n",
    "    plt.bar(models.keys(), runups)\n",
    "    plt.xlabel('Models')\n",
    "    plt.ylabel('Runup (meters)')\n",
    "    plt.title('Wave Runup Calculations Using Different Models')\n",
    "    plt.xticks(rotation=45)\n",
    "    plt.ylim(0, max(runups) * 1.2)\n",
    "    plt.grid(axis='y')\n",
    "    plt.show()\n",
    "# Create sliders and interactive widget\n",
    "interact(plot_runup,\n",
    "         H=FloatSlider(value=2.0, min=0.1, max=10.0, step=0.1, description='Wave Height (H)'),\n",
    "         L=FloatSlider(value=100.0, min=10.0, max=500.0, step=10.0, description='Wavelength (L)'),\n",
    "         beta=FloatSlider(value=0.1, min=0.01, max=0.5, step=0.01, description='Beach Slope (β)'))\n"
   ]
  },
  {
   "cell_type": "markdown",
   "id": "a2a61c9f-72fe-474d-9a88-22cf2ce0a04c",
   "metadata": {},
   "source": [
    "### 🧠 Conceptual Understanding\n",
    "1. **Define wave runup.**  \n",
    "   Why is predicting runup height important in coastal engineering?\n",
    "\n",
    "2. **Key Parameters**  \n",
    "   What are the three main parameters used in most empirical runup models?\n",
    "\n",
    "3. **Formula Interpretation**  \n",
    "   In the general empirical formula  \n",
    "   \\[\n",
    "   R = C \\left( a \\beta \\sqrt{HL} + \\sqrt{ \\frac{HL (b \\beta^2 + c)}{2} } \\right)\n",
    "   \\]\n",
    "   what do the two terms inside the brackets represent physically?\n",
    "\n",
    "5. **Energy Representation**  \n",
    "   Why is the product \\( H \\times L \\) used in estimating runup energy?\n",
    "\n",
    "6. **Coefficient Meaning**  \n",
    "   What does the coefficient \\( C \\) generally reflect in each model?\n",
    "\n",
    "7.  **Model-Specific Reasoning**\n",
    "    Which model has the highest scaling factor for wave runup prediction in the code provided, and what might that imply?\n",
    "\n",
    "8.  **Model-Specific Reasoning**\n",
    "    Why might two models return different runup predictions for the same wave and beach conditions?\n",
    "\n",
    "8.  **Model-Specific Reasoning**\n",
    "    How does beach slope influence the runup height in most models\n",
    "   "
   ]
  },
  {
   "cell_type": "markdown",
   "id": "07c0a28a-e84f-4390-a9b5-4f7ae2109108",
   "metadata": {},
   "source": [
    "Model-Specific Reasoning\n",
    "- Which model has the highest scaling factor for wave runup prediction in the code provided, and what might that imply?\n",
    "- Why might two models return different runup predictions for the same wave and beach conditions?\n",
    "- How does beach slope influence the runup height in most models\n"
   ]
  },
  {
   "cell_type": "code",
   "execution_count": null,
   "id": "751454c3-1199-427c-861e-0b65d2035d95",
   "metadata": {},
   "outputs": [],
   "source": []
  },
  {
   "cell_type": "code",
   "execution_count": 2,
   "id": "0a901e7a-00c4-4b00-bea5-5a60df52f61f",
   "metadata": {},
   "outputs": [
    {
     "data": {
      "application/vnd.jupyter.widget-view+json": {
       "model_id": "a56d27a278a84c198bec497445c1339c",
       "version_major": 2,
       "version_minor": 0
      },
      "text/plain": [
       "interactive(children=(FloatSlider(value=2.0, description='Wave Height (H)', max=5.0, min=0.5), FloatSlider(val…"
      ]
     },
     "metadata": {},
     "output_type": "display_data"
    },
    {
     "data": {
      "text/plain": [
       "<function __main__.explore_runup(H, L, beta)>"
      ]
     },
     "execution_count": 2,
     "metadata": {},
     "output_type": "execute_result"
    }
   ],
   "source": [
    "from ipywidgets import interact, FloatSlider\n",
    "\n",
    "def explore_runup(H, L, beta):\n",
    "    R = 1.1 * (0.35 * beta * (H * L)**0.5 + ((H * L * (0.563 * beta**2 + 0.004)) / 2)**0.5)\n",
    "    print(f\"Estimated runup: {R:.2f} m\")\n",
    "    print(\"🧠 What happens when you increase β? Why?\")\n",
    "\n",
    "interact(explore_runup,\n",
    "         H=FloatSlider(min=0.5, max=5.0, step=0.1, value=2.0, description=\"Wave Height (H)\"),\n",
    "         L=FloatSlider(min=50, max=300, step=10, value=100, description=\"Wavelength (L)\"),\n",
    "         beta=FloatSlider(min=0.01, max=0.5, step=0.01, value=0.1, description=\"Beach Slope (β)\"))"
   ]
  },
  {
   "cell_type": "code",
   "execution_count": null,
   "id": "cd7b5883-2dc8-419c-ab7b-4a224f5cef1a",
   "metadata": {},
   "outputs": [],
   "source": [
    "https://mybinder.org/v2/gh/USERNAME/REPO/BRANCH?urlpath=voila/render/your_notebook.ipynb"
   ]
  }
 ],
 "metadata": {
  "kernelspec": {
   "display_name": "Python [conda env:base] *",
   "language": "python",
   "name": "conda-base-py"
  },
  "language_info": {
   "codemirror_mode": {
    "name": "ipython",
    "version": 3
   },
   "file_extension": ".py",
   "mimetype": "text/x-python",
   "name": "python",
   "nbconvert_exporter": "python",
   "pygments_lexer": "ipython3",
   "version": "3.12.7"
  }
 },
 "nbformat": 4,
 "nbformat_minor": 5
}
