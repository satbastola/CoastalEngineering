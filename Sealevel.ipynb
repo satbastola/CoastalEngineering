{
 "cells": [
  {
   "cell_type": "markdown",
   "id": "1e078d8e-66ea-4cf1-ae51-13a64e803763",
   "metadata": {},
   "source": [
    "# Chapter 5: Coastal Engineering: Sea Level Change\n",
    "## Section1.1: Sealevel change"
   ]
  },
  {
   "cell_type": "code",
   "execution_count": 4,
   "id": "9e26606c-80f8-40bb-98a7-c3d8ce63b432",
   "metadata": {
    "slideshow": {
     "slide_type": ""
    },
    "tags": [
     "thebe-init"
    ]
   },
   "outputs": [
    {
     "data": {
      "application/vnd.jupyter.widget-view+json": {
       "model_id": "c985e1207f074a1aa1f72cc5f7adb70c",
       "version_major": 2,
       "version_minor": 0
      },
      "text/plain": [
       "VBox(children=(Dropdown(description='Location:', options=('New Orleans', 'Galveston', 'Mobile', 'Tampa'), valu…"
      ]
     },
     "metadata": {},
     "output_type": "display_data"
    }
   ],
   "source": [
    "import numpy as np\n",
    "import matplotlib.pyplot as plt\n",
    "import ipywidgets as widgets\n",
    "from IPython.display import display, clear_output\n",
    "\n",
    "# Projection model\n",
    "def slr_projection(years, scenario):\n",
    "    if scenario == 'SSP1-2.6':\n",
    "        return 0.25 + 0.003 * (years - 2020)\n",
    "    elif scenario == 'SSP2-4.5':\n",
    "        return 0.3 + 0.005 * (years - 2020)\n",
    "    else:  # SSP5-8.5\n",
    "        return 0.4 + 0.007 * (years - 2020)\n",
    "\n",
    "years = np.arange(2020, 2101)\n",
    "\n",
    "# Widgets\n",
    "location_selector = widgets.Dropdown(\n",
    "    options=['New Orleans', 'Galveston', 'Mobile', 'Tampa'],\n",
    "    value='New Orleans',\n",
    "    description='Location:'\n",
    ")\n",
    "\n",
    "scenario_selector = widgets.RadioButtons(\n",
    "    options=['SSP1-2.6', 'SSP2-4.5', 'SSP5-8.5'],\n",
    "    value='SSP2-4.5',\n",
    "    description='Scenario:'\n",
    ")\n",
    "\n",
    "output = widgets.Output()\n",
    "\n",
    "# Update logic using matplotlib\n",
    "def update_plot(change=None):\n",
    "    with output:\n",
    "        clear_output(wait=True)\n",
    "        location = location_selector.value\n",
    "        scenario = scenario_selector.value\n",
    "        slr = slr_projection(years, scenario)\n",
    "\n",
    "        plt.figure(figsize=(10, 5))\n",
    "        plt.plot(years, slr, label='Projected SLR', color='royalblue')\n",
    "        plt.title(f\"Projected Sea Level Rise – {location}\")\n",
    "        plt.xlabel(\"Year\")\n",
    "        plt.ylabel(\"Sea Level Rise (m)\")\n",
    "        plt.ylim([0, max(slr) + 0.1])\n",
    "        plt.grid(True, linestyle='--', alpha=0.5)\n",
    "        plt.legend()\n",
    "        plt.tight_layout()\n",
    "        plt.show()\n",
    "\n",
    "# Attach observers\n",
    "location_selector.observe(update_plot, names='value')\n",
    "scenario_selector.observe(update_plot, names='value')\n",
    "\n",
    "# Display UI\n",
    "display(widgets.VBox([location_selector, scenario_selector, output]))\n",
    "update_plot()\n"
   ]
  },
  {
   "cell_type": "code",
   "execution_count": null,
   "id": "0265e5bb-2c3a-4d06-8494-f4c8d5bf9227",
   "metadata": {
    "editable": false,
    "slideshow": {
     "slide_type": "slide"
    },
    "tags": []
   },
   "outputs": [],
   "source": []
  },
  {
   "cell_type": "code",
   "execution_count": null,
   "id": "3c75bfbf-958f-4cc5-8161-8c07195c2c32",
   "metadata": {},
   "outputs": [],
   "source": []
  }
 ],
 "metadata": {
  "kernelspec": {
   "display_name": "Python [conda env:base] *",
   "language": "python",
   "name": "conda-base-py"
  },
  "language_info": {
   "codemirror_mode": {
    "name": "ipython",
    "version": 3
   },
   "file_extension": ".py",
   "mimetype": "text/x-python",
   "name": "python",
   "nbconvert_exporter": "python",
   "pygments_lexer": "ipython3",
   "version": "3.12.7"
  }
 },
 "nbformat": 4,
 "nbformat_minor": 5
}
